{
 "cells": [
  {
   "cell_type": "code",
   "execution_count": 1,
   "metadata": {
    "id": "lux5l2hpRsPE"
   },
   "outputs": [],
   "source": [
    "import pandas as pd\n",
    "import numpy as np\n",
    "\n",
    "from matplotlib import pyplot as plt\n",
    "import seaborn as sns\n",
    "\n",
    "import statsmodels.formula.api as smf\n",
    "from sklearn.decomposition import PCA"
   ]
  },
  {
   "cell_type": "markdown",
   "metadata": {
    "id": "oXxoFK5RXCxN"
   },
   "source": [
    "### Functional analysis of transcriptomics data from SARS-CoV-2 infected cell lines\n",
    "\n",
    "Data is from [GSE147507](https://www.ncbi.nlm.nih.gov/geo/query/acc.cgi?acc=GSE147507)"
   ]
  },
  {
   "cell_type": "code",
   "execution_count": 3,
   "metadata": {
    "id": "Gr6uQrl3Xupi"
   },
   "outputs": [],
   "source": [
    "meta = pd.read_csv(\"meta.csv\", sep=\",\", header=0, index_col=0)"
   ]
  },
  {
   "cell_type": "code",
   "execution_count": null,
   "metadata": {},
   "outputs": [],
   "source": [
    "meta.head()"
   ]
  },
  {
   "cell_type": "markdown",
   "metadata": {
    "id": "VHlZ3CF0Xpdx"
   },
   "source": [
    "### Basic exploratory analysis with PCA"
   ]
  },
  {
   "cell_type": "code",
   "execution_count": 4,
   "metadata": {
    "id": "5hSZ328uXQVl"
   },
   "outputs": [
    {
     "data": {
      "text/html": [
       "<div>\n",
       "<style scoped>\n",
       "    .dataframe tbody tr th:only-of-type {\n",
       "        vertical-align: middle;\n",
       "    }\n",
       "\n",
       "    .dataframe tbody tr th {\n",
       "        vertical-align: top;\n",
       "    }\n",
       "\n",
       "    .dataframe thead th {\n",
       "        text-align: right;\n",
       "    }\n",
       "</style>\n",
       "<table border=\"1\" class=\"dataframe\">\n",
       "  <thead>\n",
       "    <tr style=\"text-align: right;\">\n",
       "      <th></th>\n",
       "      <th>ID</th>\n",
       "      <th>Series</th>\n",
       "      <th>Replicate</th>\n",
       "      <th>Cell</th>\n",
       "      <th>Treatment</th>\n",
       "    </tr>\n",
       "    <tr>\n",
       "      <th>!Sample_geo_accession</th>\n",
       "      <th></th>\n",
       "      <th></th>\n",
       "      <th></th>\n",
       "      <th></th>\n",
       "      <th></th>\n",
       "    </tr>\n",
       "  </thead>\n",
       "  <tbody>\n",
       "    <tr>\n",
       "      <th>GSM4432378</th>\n",
       "      <td>Series1_NHBE_Mock_1</td>\n",
       "      <td>Series1</td>\n",
       "      <td>1</td>\n",
       "      <td>NHBE</td>\n",
       "      <td>Mock</td>\n",
       "    </tr>\n",
       "    <tr>\n",
       "      <th>GSM4432379</th>\n",
       "      <td>Series1_NHBE_Mock_2</td>\n",
       "      <td>Series1</td>\n",
       "      <td>2</td>\n",
       "      <td>NHBE</td>\n",
       "      <td>Mock</td>\n",
       "    </tr>\n",
       "    <tr>\n",
       "      <th>GSM4432380</th>\n",
       "      <td>Series1_NHBE_Mock_3</td>\n",
       "      <td>Series1</td>\n",
       "      <td>3</td>\n",
       "      <td>NHBE</td>\n",
       "      <td>Mock</td>\n",
       "    </tr>\n",
       "    <tr>\n",
       "      <th>GSM4432381</th>\n",
       "      <td>Series1_NHBE_SARS-CoV-2_1</td>\n",
       "      <td>Series1</td>\n",
       "      <td>1</td>\n",
       "      <td>NHBE</td>\n",
       "      <td>SARS-CoV-2</td>\n",
       "    </tr>\n",
       "    <tr>\n",
       "      <th>GSM4432382</th>\n",
       "      <td>Series1_NHBE_SARS-CoV-2_2</td>\n",
       "      <td>Series1</td>\n",
       "      <td>2</td>\n",
       "      <td>NHBE</td>\n",
       "      <td>SARS-CoV-2</td>\n",
       "    </tr>\n",
       "  </tbody>\n",
       "</table>\n",
       "</div>"
      ],
      "text/plain": [
       "                                              ID   Series  Replicate  Cell  \\\n",
       "!Sample_geo_accession                                                        \n",
       "GSM4432378                   Series1_NHBE_Mock_1  Series1          1  NHBE   \n",
       "GSM4432379                   Series1_NHBE_Mock_2  Series1          2  NHBE   \n",
       "GSM4432380                   Series1_NHBE_Mock_3  Series1          3  NHBE   \n",
       "GSM4432381             Series1_NHBE_SARS-CoV-2_1  Series1          1  NHBE   \n",
       "GSM4432382             Series1_NHBE_SARS-CoV-2_2  Series1          2  NHBE   \n",
       "\n",
       "                        Treatment  \n",
       "!Sample_geo_accession              \n",
       "GSM4432378                   Mock  \n",
       "GSM4432379                   Mock  \n",
       "GSM4432380                   Mock  \n",
       "GSM4432381             SARS-CoV-2  \n",
       "GSM4432382             SARS-CoV-2  "
      ]
     },
     "execution_count": 4,
     "metadata": {},
     "output_type": "execute_result"
    }
   ],
   "source": [
    "meta.head()"
   ]
  },
  {
   "cell_type": "markdown",
   "metadata": {
    "id": "8hS4F5HNX1Xg"
   },
   "source": [
    "### Basics of statistical modelling"
   ]
  },
  {
   "cell_type": "code",
   "execution_count": null,
   "metadata": {
    "id": "fzvPxywOYtRF"
   },
   "outputs": [],
   "source": []
  },
  {
   "cell_type": "markdown",
   "metadata": {
    "id": "bdSTGNh0YvaT"
   },
   "source": [
    "### Homework\n",
    "\n",
    "* Calculate coefficients for Calu-3 and A549 cells, and plot the them (scatter plot) against each other. You will have to filter for these data, and run a statistical model with only 'Treatment' factor (basically it is a t-test). \n",
    "* install [DESeq2](https://bioconductor.org/packages/release/bioc/html/DESeq2.html) library in R."
   ]
  },
  {
   "cell_type": "code",
   "execution_count": null,
   "metadata": {
    "id": "amrEjG6CYwxP"
   },
   "outputs": [],
   "source": []
  }
 ],
 "metadata": {
  "colab": {
   "authorship_tag": "ABX9TyMkieGd0ZI+/JgdHkDO3Dnk",
   "collapsed_sections": [],
   "name": "Week6.ipynb",
   "provenance": [],
   "toc_visible": true
  },
  "kernelspec": {
   "display_name": "Python 3",
   "language": "python",
   "name": "python3"
  },
  "language_info": {
   "codemirror_mode": {
    "name": "ipython",
    "version": 3
   },
   "file_extension": ".py",
   "mimetype": "text/x-python",
   "name": "python",
   "nbconvert_exporter": "python",
   "pygments_lexer": "ipython3",
   "version": "3.8.3"
  }
 },
 "nbformat": 4,
 "nbformat_minor": 1
}
